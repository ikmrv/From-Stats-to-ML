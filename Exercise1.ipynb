{
 "cells": [
  {
   "cell_type": "markdown",
   "metadata": {},
   "source": [
    "# Симуляция данных для проблемы 1"
   ]
  },
  {
   "cell_type": "markdown",
   "metadata": {},
   "source": [
    "### Проблема 1: Поиск неизвестного сигнала.\n",
    "По ссылке ниже вы можете найти результаты двух экспериментов из области физики частиц.\n",
    "(Конечно это симуляция, но давайте думать что это настоящие данные)\n",
    "Данные представляют собой смесь выборок полученных их двух источников:\n",
    "- Первый источник, назовем его фоном, дает равномерное распределение величины M в диапазоне от 0 до 10\n",
    "- Второй источник, назовем его сигналом, нам не известен, но мы хотим проверить теорию по которой сигнальные события нормально распределены вокруг некоторого значения с некоторой шириной.\n",
    "- Мы знаем, что наша экспериментальная установка не слишком точная, и измеренное значение M немного отличается от сгенерированного (с помощью сигнальной или фоновой модели). Измеренное значение распределено нормально вокруг истинного значения с шириной 0.1.\n",
    "\n",
    "Задача: используя данные обоих экспериментов, сделать вывод о том присутствует ли в них сигнал, и, если да, каковы его параметры\n",
    "(сигнал может присутствовать а может и нет, параметры сигналов могут различаться)\n",
    "Ссылка на данные: https://u.pcloud.link/publink/show?code=VZR9StXZsCxkqS8Bq1VbczrxyrLay4sI81oX"
   ]
  },
  {
   "cell_type": "markdown",
   "metadata": {},
   "source": [
    "В этом ноутбуке мы подробно рассмотрим симуляцию сигналов для задачи 1.\n",
    "\n",
    "### Симуляция данных первого источника\n",
    "\n",
    "По условию задачи первый источник - фон - создает равномерное распределение величины M в диапазоне от 0 до 10. Из лекции 3 мы знаем про библиотеку `scipy.stats` и можем ей восползоваться для получения генератора равномерно распределенной случайной величины."
   ]
  },
  {
   "cell_type": "code",
   "execution_count": 2,
   "metadata": {},
   "outputs": [],
   "source": [
    "from scipy.stats import uniform\n",
    "source_1 = uniform(0, 10)"
   ]
  },
  {
   "cell_type": "markdown",
   "metadata": {},
   "source": [
    "Теперь сгенерируем 1000 событий из источника 1:"
   ]
  },
  {
   "cell_type": "code",
   "execution_count": 4,
   "metadata": {},
   "outputs": [],
   "source": [
    "ev_source_1 = source_1.rvs(1000)"
   ]
  },
  {
   "cell_type": "markdown",
   "metadata": {},
   "source": [
    "Посмотрим на эти данные"
   ]
  },
  {
   "cell_type": "code",
   "execution_count": 5,
   "metadata": {},
   "outputs": [
    {
     "data": {
      "text/plain": [
       "(array([44., 55., 52., 50., 57., 43., 44., 55., 67., 48., 40., 50., 43.,\n",
       "        43., 43., 52., 57., 56., 47., 54.]),\n",
       " array([5.23395087e-03, 5.03925212e-01, 1.00261647e+00, 1.50130774e+00,\n",
       "        1.99999900e+00, 2.49869026e+00, 2.99738152e+00, 3.49607278e+00,\n",
       "        3.99476404e+00, 4.49345530e+00, 4.99214657e+00, 5.49083783e+00,\n",
       "        5.98952909e+00, 6.48822035e+00, 6.98691161e+00, 7.48560287e+00,\n",
       "        7.98429414e+00, 8.48298540e+00, 8.98167666e+00, 9.48036792e+00,\n",
       "        9.97905918e+00]),\n",
       " <BarContainer object of 20 artists>)"
      ]
     },
     "execution_count": 5,
     "metadata": {},
     "output_type": "execute_result"
    },
    {
     "data": {
      "image/png": "[encoded data removed]",
      "text/plain": [
       "<Figure size 432x288 with 1 Axes>"
      ]
     },
     "metadata": {
      "needs_background": "light"
     },
     "output_type": "display_data"
    }
   ],
   "source": [
    "import matplotlib.pyplot as plt\n",
    "plt.hist(ev_source_1, bins = 20)"
   ]
  },
  {
   "cell_type": "markdown",
   "metadata": {},
   "source": [
    "### Симуляция данных второго источника"
   ]
  },
  {
   "cell_type": "markdown",
   "metadata": {},
   "source": [
    "По условию задачи мы ничего не знаем про второй источник, но мы предполагаем что сигнал из него распределен нормально. В случае когда мы хотим смоделировать ситуацию при которой вообще нет второго источника, мы можем опустить этот шаг. \n",
    "\n",
    "Но давайте будем считать что экспериментаторам повезло и второй источник присутствует. Более того, второй источник действительно сгенерирован из нормального распределения.\n",
    "Пусть среднее значение будет равно 6, а дисперсия 1."
   ]
  },
  {
   "cell_type": "code",
   "execution_count": 10,
   "metadata": {},
   "outputs": [],
   "source": [
    "from scipy.stats import norm\n",
    "source_2 = norm(6, 1)"
   ]
  },
  {
   "cell_type": "markdown",
   "metadata": {},
   "source": [
    "Теперь давайте получим 100 событий из источника 2:"
   ]
  },
  {
   "cell_type": "code",
   "execution_count": 14,
   "metadata": {},
   "outputs": [],
   "source": [
    "ev_source_2 = source_2.rvs(100)"
   ]
  },
  {
   "cell_type": "markdown",
   "metadata": {},
   "source": [
    "Ну и посмотрим как распределены сигналы из второго источника"
   ]
  },
  {
   "cell_type": "code",
   "execution_count": 15,
   "metadata": {},
   "outputs": [
    {
     "data": {
      "text/plain": [
       "(array([ 2.,  0.,  7.,  3.,  4., 10., 12.,  8., 17.,  7.,  7.,  6.,  3.,\n",
       "         3.,  3.,  3.,  3.,  0.,  1.,  1.]),\n",
       " array([3.88169776, 4.1261928 , 4.37068784, 4.61518287, 4.85967791,\n",
       "        5.10417295, 5.34866799, 5.59316302, 5.83765806, 6.0821531 ,\n",
       "        6.32664814, 6.57114317, 6.81563821, 7.06013325, 7.30462829,\n",
       "        7.54912332, 7.79361836, 8.0381134 , 8.28260844, 8.52710347,\n",
       "        8.77159851]),\n",
       " <BarContainer object of 20 artists>)"
      ]
     },
     "execution_count": 15,
     "metadata": {},
     "output_type": "execute_result"
    },
    {
     "data": {
      "image/png": "[encoded data removed]",
      "text/plain": [
       "<Figure size 432x288 with 1 Axes>"
      ]
     },
     "metadata": {
      "needs_background": "light"
     },
     "output_type": "display_data"
    }
   ],
   "source": [
    "plt.hist(ev_source_2, bins = 20)"
   ]
  },
  {
   "cell_type": "markdown",
   "metadata": {},
   "source": [
    "### Комбинирование данных"
   ]
  },
  {
   "cell_type": "markdown",
   "metadata": {},
   "source": [
    "По условиям эксперимента, мы не можем сказать какому источнику принадлежит то или иное событиею. Поэтому в эксперименте мы видим сумму событий из двух источников:"
   ]
  },
  {
   "cell_type": "code",
   "execution_count": 19,
   "metadata": {},
   "outputs": [],
   "source": [
    "import numpy as np\n",
    "combined_ev = np.concatenate([ev_source_1, ev_source_2])"
   ]
  },
  {
   "cell_type": "markdown",
   "metadata": {},
   "source": [
    "Вот так выглядит комбинированное распределение:"
   ]
  },
  {
   "cell_type": "code",
   "execution_count": 23,
   "metadata": {},
   "outputs": [
    {
     "data": {
      "text/plain": [
       "<matplotlib.legend.Legend at 0x12e82ce50>"
      ]
     },
     "execution_count": 23,
     "metadata": {},
     "output_type": "execute_result"
    },
    {
     "data": {
      "image/png": "[encoded data removed]",
      "text/plain": [
       "<Figure size 432x288 with 1 Axes>"
      ]
     },
     "metadata": {
      "needs_background": "light"
     },
     "output_type": "display_data"
    }
   ],
   "source": [
    "plt.hist(combined_ev, range = [0, 10], bins = 20, label = \"Source 2\")\n",
    "plt.hist(ev_source_1, range = [0, 10], bins = 20, label = \"Source 1\")\n",
    "plt.legend()"
   ]
  },
  {
   "cell_type": "markdown",
   "metadata": {},
   "source": [
    "### Симуляция детектора\n",
    "Наконец, наш детектор производит шум. По условию задачи, измеренное значение случайной величины смещено относительного истинного значения на нормально распределенну случайную величину.\n",
    "\n",
    "Для симуляции этого, первым делом создадим набор значений шума для каждого события. По условию задачи шум распределен нормально, он несммещен (среденее равно 0), и его дисперсия равна 0.1."
   ]
  },
  {
   "cell_type": "code",
   "execution_count": 24,
   "metadata": {},
   "outputs": [],
   "source": [
    "noise_rv = norm(0, 0.1)"
   ]
  },
  {
   "cell_type": "markdown",
   "metadata": {},
   "source": [
    "Создадим вектор значений шума совпадающий по длине с векотором измерений"
   ]
  },
  {
   "cell_type": "code",
   "execution_count": 25,
   "metadata": {},
   "outputs": [],
   "source": [
    "noise_vals = noise_rv.rvs(len(combined_ev))"
   ]
  },
  {
   "cell_type": "markdown",
   "metadata": {},
   "source": [
    "Теперь добавим шум к каждому измеренному значению"
   ]
  },
  {
   "cell_type": "code",
   "execution_count": 26,
   "metadata": {},
   "outputs": [],
   "source": [
    "detected = noise_vals +combined_ev"
   ]
  },
  {
   "cell_type": "markdown",
   "metadata": {},
   "source": [
    "Посмотрим насколько щум влияет на результат. Обратите внимание на \"вытекание\" значений за пределы изначального диапазона от [0, 10]"
   ]
  },
  {
   "cell_type": "code",
   "execution_count": 31,
   "metadata": {},
   "outputs": [
    {
     "data": {
      "text/plain": [
       "<matplotlib.legend.Legend at 0x12f05be20>"
      ]
     },
     "execution_count": 31,
     "metadata": {},
     "output_type": "execute_result"
    },
    {
     "data": {
      "image/png": "[encoded data removed]",
      "text/plain": [
       "<Figure size 432x288 with 1 Axes>"
      ]
     },
     "metadata": {
      "needs_background": "light"
     },
     "output_type": "display_data"
    }
   ],
   "source": [
    "plt.hist(combined_ev, bins = 55, range = [-0.5, 10.5], label = \"Generated\" )\n",
    "plt.hist(detected, bins = 55, range = [-0.5, 10.5], label = \"Measured\", alpha = 0.5 )\n",
    "plt.legend()"
   ]
  },
  {
   "cell_type": "markdown",
   "metadata": {},
   "source": [
    "Теперь ваша задача получить оценку числа собыьтий и формы распределения сигнала 2 имея только комбинированные и зашумленные данные."
   ]
  },
  {
   "cell_type": "code",
   "execution_count": null,
   "metadata": {},
   "outputs": [],
   "source": []
  }
 ],
 "metadata": {
  "kernelspec": {
   "display_name": "Python 3 (ipykernel)",
   "language": "python",
   "name": "python3"
  },
  "language_info": {
   "codemirror_mode": {
    "name": "ipython",
    "version": 3
   },
   "file_extension": ".py",
   "mimetype": "text/x-python",
   "name": "python",
   "nbconvert_exporter": "python",
   "pygments_lexer": "ipython3",
   "version": "3.8.9"
  }
 },
 "nbformat": 4,
 "nbformat_minor": 4
}
